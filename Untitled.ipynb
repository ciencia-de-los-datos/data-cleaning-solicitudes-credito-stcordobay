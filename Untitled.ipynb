{
 "cells": [
  {
   "cell_type": "code",
   "execution_count": 54,
   "id": "47365873",
   "metadata": {},
   "outputs": [],
   "source": [
    "import pandas as pd\n",
    "from textblob import TextBlob\n"
   ]
  },
  {
   "cell_type": "code",
   "execution_count": 97,
   "id": "8806ad32",
   "metadata": {},
   "outputs": [],
   "source": [
    "df = pd.read_csv(\"solicitudes_credito.csv\", sep=\";\", index_col=0)"
   ]
  },
  {
   "cell_type": "code",
   "execution_count": 77,
   "id": "a6206e65",
   "metadata": {},
   "outputs": [],
   "source": [
    "\n",
    "df['tipo_de_emprendimiento'] = df['tipo_de_emprendimiento'].str.lower()\n",
    "df['barrio'] = df['barrio'].str.lower()\n",
    "df['idea_negocio'] = df['idea_negocio'].str.lower()\n",
    "df['sexo'] = df['sexo'].str.lower()\n",
    "df['línea_credito'] = df['línea_credito'].str.lower()\n",
    "\n",
    "df['comuna_ciudadano'] = df['comuna_ciudadano'].astype(int)\n",
    "df['monto_del_credito'] = df['monto_del_credito'].apply(lambda x: x.replace('$', '')).apply(lambda x: x.replace(',', '')).astype(float).astype(int)\n",
    "\n",
    "import datetime\n",
    "\n",
    "df['fecha_de_beneficio'] = pd.to_datetime(df['fecha_de_beneficio'], dayfirst= True)\n",
    "df['fecha_de_beneficio'] = pd.to_datetime(df['fecha_de_beneficio'], format='%Y/%m/%d', infer_datetime_format = False ).dt.date\n",
    "\n",
    "df['idea_negocio'] = df['idea_negocio'].str.replace('_',' ').str.replace('-',' ').str.strip()\n",
    "df['idea_negocio'] = df['idea_negocio'].apply(lambda x: x.replace(' ', '_'))\n",
    "\n",
    "df['barrio'] = df['barrio'].str.replace('_','-').str.replace('-',' ')\n",
    "df['línea_credito'] = df['línea_credito'].str.replace('_',' ').str.replace('-',' ').str.strip()\n",
    "\n",
    "df = df.drop_duplicates()\n",
    "df = df.dropna(subset=['tipo_de_emprendimiento'], axis=0)\n",
    "df = df.dropna(subset=['idea_negocio'], axis=0)\n",
    "df = df.dropna(subset=['barrio'], axis=0)\n"
   ]
  },
  {
   "cell_type": "code",
   "execution_count": 78,
   "id": "399a2c40",
   "metadata": {},
   "outputs": [],
   "source": [
    "codigox=set(df.barrio)"
   ]
  },
  {
   "cell_type": "code",
   "execution_count": 82,
   "id": "a96af7f9",
   "metadata": {},
   "outputs": [],
   "source": [
    "codigomio=set(df.barrio)"
   ]
  },
  {
   "cell_type": "code",
   "execution_count": 99,
   "id": "1722d6c3",
   "metadata": {},
   "outputs": [],
   "source": [
    "codigomio=df.barrio.value_counts().to_list()"
   ]
  },
  {
   "cell_type": "code",
   "execution_count": 100,
   "id": "d336747e",
   "metadata": {},
   "outputs": [
    {
     "data": {
      "text/plain": [
       "(225, 225, 225)"
      ]
     },
     "execution_count": 100,
     "metadata": {},
     "output_type": "execute_result"
    }
   ],
   "source": [
    "len(test), len(codigomio), len(codigox)"
   ]
  },
  {
   "cell_type": "code",
   "execution_count": 64,
   "id": "c0ceb85d",
   "metadata": {},
   "outputs": [],
   "source": [
    "import numpy as np"
   ]
  },
  {
   "cell_type": "code",
   "execution_count": 98,
   "id": "17a73e94",
   "metadata": {},
   "outputs": [
    {
     "name": "stderr",
     "output_type": "stream",
     "text": [
      "/var/folders/pj/k39rkm7n70zfpx2h1pd48nyh0000gn/T/ipykernel_30457/2688182241.py:3: FutureWarning: The default value of regex will change from True to False in a future version. In addition, single character regular expressions will *not* be treated as literal strings when regex=True.\n",
      "  df[i]=df[i].str.upper().str.replace('.','').str.replace('-',' ').str.replace('_',' ').str.replace(' ','')\n",
      "/var/folders/pj/k39rkm7n70zfpx2h1pd48nyh0000gn/T/ipykernel_30457/2688182241.py:4: FutureWarning: The default value of regex will change from True to False in a future version. In addition, single character regular expressions will *not* be treated as literal strings when regex=True.\n",
      "  df.monto_del_credito=df['monto_del_credito'].str.replace('$','').str.replace(',','').astype(float)\n"
     ]
    }
   ],
   "source": [
    "texto=['sexo','tipo_de_emprendimiento','idea_negocio','línea_credito']\n",
    "for i in texto:\n",
    "    df[i]=df[i].str.upper().str.replace('.','').str.replace('-',' ').str.replace('_',' ').str.replace(' ','')\n",
    "df.monto_del_credito=df['monto_del_credito'].str.replace('$','').str.replace(',','').astype(float)\n",
    "df.fecha_de_beneficio=pd.to_datetime(df.fecha_de_beneficio, dayfirst=True)\n",
    "df.barrio=df['barrio'].str.upper().str.replace('_','-').str.replace('-',' ')\n",
    "df=df.dropna()\n",
    "df=df.drop_duplicates()"
   ]
  },
  {
   "cell_type": "code",
   "execution_count": 52,
   "id": "5c14a53c",
   "metadata": {},
   "outputs": [],
   "source": [
    "df=df.dropna()\n",
    "df=df.drop_duplicates()"
   ]
  },
  {
   "cell_type": "code",
   "execution_count": 53,
   "id": "9a2807ec",
   "metadata": {},
   "outputs": [
    {
     "data": {
      "text/plain": [
       "[6617, 3589]"
      ]
     },
     "execution_count": 53,
     "metadata": {},
     "output_type": "execute_result"
    }
   ],
   "source": [
    "df.sexo.value_counts().to_list()"
   ]
  },
  {
   "cell_type": "code",
   "execution_count": null,
   "id": "c6cce594",
   "metadata": {},
   "outputs": [],
   "source": []
  },
  {
   "cell_type": "code",
   "execution_count": null,
   "id": "dddeafdd",
   "metadata": {},
   "outputs": [],
   "source": []
  },
  {
   "cell_type": "code",
   "execution_count": 7,
   "id": "5ab4e059",
   "metadata": {},
   "outputs": [
    {
     "name": "stdout",
     "output_type": "stream",
     "text": [
      "[nltk_data] Downloading package brown to /Users/scordobay/nltk_data...\n",
      "[nltk_data]   Unzipping corpora/brown.zip.\n",
      "[nltk_data] Downloading package punkt to /Users/scordobay/nltk_data...\n",
      "[nltk_data]   Unzipping tokenizers/punkt.zip.\n",
      "[nltk_data] Downloading package wordnet to\n",
      "[nltk_data]     /Users/scordobay/nltk_data...\n",
      "[nltk_data] Downloading package averaged_perceptron_tagger to\n",
      "[nltk_data]     /Users/scordobay/nltk_data...\n",
      "[nltk_data]   Unzipping taggers/averaged_perceptron_tagger.zip.\n",
      "[nltk_data] Downloading package conll2000 to\n",
      "[nltk_data]     /Users/scordobay/nltk_data...\n",
      "[nltk_data]   Unzipping corpora/conll2000.zip.\n",
      "[nltk_data] Downloading package movie_reviews to\n",
      "[nltk_data]     /Users/scordobay/nltk_data...\n",
      "[nltk_data]   Unzipping corpora/movie_reviews.zip.\n",
      "Finished.\n"
     ]
    }
   ],
   "source": [
    "!python -m textblob.download_corpora"
   ]
  },
  {
   "cell_type": "code",
   "execution_count": 4,
   "id": "34626360",
   "metadata": {},
   "outputs": [
    {
     "data": {
      "text/plain": [
       "MICROEMPRESARIAL       10055\n",
       "EMPRESARIALED             70\n",
       "AGROPECUARIA              55\n",
       "JURIDICAYCAPSEMILLA       33\n",
       "CREDIOPORTUNO             21\n",
       "FOMENTOAGROPECUARIO        4\n",
       "SOLIDARIA                  1\n",
       "SOLIDIARIA                 1\n",
       "AYACUCHOFORMAL             1\n",
       "Name: línea_credito, dtype: int64"
      ]
     },
     "execution_count": 4,
     "metadata": {},
     "output_type": "execute_result"
    }
   ],
   "source": [
    "df.dropna().drop_duplicates().línea_credito.value_counts()"
   ]
  },
  {
   "cell_type": "code",
   "execution_count": 104,
   "id": "0cab6e64",
   "metadata": {},
   "outputs": [
    {
     "data": {
      "text/plain": [
       "ROBLEDO               990\n",
       "MANRIQUECENTRALNO1    484\n",
       "SANJAVIERNO1          426\n",
       "ARANJUEZ              386\n",
       "BELEN                 380\n",
       "                     ... \n",
       "MIRADORDELDOCE          1\n",
       "SINBARRIO               1\n",
       "LASINDEPENDENCIAS       1\n",
       "ORIENTE                 1\n",
       "LOSANGELES              1\n",
       "Name: barrio, Length: 223, dtype: int64"
      ]
     },
     "execution_count": 104,
     "metadata": {},
     "output_type": "execute_result"
    }
   ],
   "source": [
    "df.dropna().drop_duplicates().barrio.value_counts()"
   ]
  },
  {
   "cell_type": "code",
   "execution_count": 72,
   "id": "04bf5bfd",
   "metadata": {},
   "outputs": [
    {
     "data": {
      "text/plain": [
       "10271"
      ]
     },
     "execution_count": 72,
     "metadata": {},
     "output_type": "execute_result"
    }
   ],
   "source": [
    "len(df.dropna().drop_duplicates())"
   ]
  },
  {
   "cell_type": "code",
   "execution_count": 105,
   "id": "062cf70f",
   "metadata": {},
   "outputs": [
    {
     "data": {
      "text/plain": [
       "{'13DENOVIEMBRE',\n",
       " '20DEJULIO',\n",
       " 'AGUASFRIAS',\n",
       " 'ALEJANDROECHAVARRIA',\n",
       " 'ALFONSOLOPEZ',\n",
       " 'ALTAMIRA',\n",
       " 'ALTAVISTA',\n",
       " 'ANDALUCIA',\n",
       " 'ANTONIONARI¿O',\n",
       " 'ANTONIONARIÑO',\n",
       " 'ARANJUEZ',\n",
       " 'AURESNO1',\n",
       " 'AURESNO2',\n",
       " 'BARRIOCAICEDO',\n",
       " 'BARRIOCOLOMBIA',\n",
       " 'BARRIOCOLON',\n",
       " 'BARRIOCRISTOBAL',\n",
       " 'BARRIODEJESUS',\n",
       " 'BARROBLANCO',\n",
       " 'BELALCAZAR',\n",
       " 'BELEN',\n",
       " 'BELENCITO',\n",
       " 'BELLOHORIZONTE',\n",
       " 'BEL¿N',\n",
       " 'BETANIA',\n",
       " 'BLANQUIZAL',\n",
       " 'BOMBONANO1',\n",
       " 'BOMBONANO2',\n",
       " 'BOSQUESDESANPABLO',\n",
       " 'BOSTON',\n",
       " 'BOYACA',\n",
       " 'BRASILIA',\n",
       " 'BUENOSAIRES',\n",
       " 'CABECERASANANTONIO',\n",
       " 'CABECERASANCRISTOBAL',\n",
       " 'CALASANZ',\n",
       " 'CALASANZPARTEALTA',\n",
       " 'CAMPOALEGRE',\n",
       " 'CAMPOAMOR',\n",
       " 'CAMPOVALDESNO1',\n",
       " 'CAMPOVALDESNO2',\n",
       " 'CARIBE',\n",
       " 'CARLOSERESTREPO',\n",
       " 'CARPINELO',\n",
       " 'CASTILLA',\n",
       " 'CATALUNA',\n",
       " 'CENTROADMTIVO',\n",
       " 'CORDOBA',\n",
       " 'CRISTOREY',\n",
       " 'DOCEDEOCTUBRENO1',\n",
       " 'DOCEDEOCTUBRENO2',\n",
       " 'EDUARDOSANTOS',\n",
       " 'ELASTILLERO',\n",
       " 'ELCHAGUALO',\n",
       " 'ELCOMPROMISO',\n",
       " 'ELCORAZON',\n",
       " 'ELDIAMANTE',\n",
       " 'ELESTADIO',\n",
       " 'ELLLANO',\n",
       " 'ELPESEBRE',\n",
       " 'ELPINAL',\n",
       " 'ELPOBLADO',\n",
       " 'ELPROGRESONO2',\n",
       " 'ELRAIZAL',\n",
       " 'ELRINCON',\n",
       " 'ELRODEO',\n",
       " 'ELSALADO',\n",
       " 'ELSALVADOR',\n",
       " 'ELSOCORRO',\n",
       " 'ELTRIUNFO',\n",
       " 'ELVERGEL',\n",
       " 'ENCISO',\n",
       " 'FATIMA',\n",
       " 'FLORENCIA',\n",
       " 'FLORIDANUEVA',\n",
       " 'FRANCISCOANTONIOZEA',\n",
       " 'FUENTECLARA',\n",
       " 'GERONA',\n",
       " 'GIRARDOT',\n",
       " 'GRANADA',\n",
       " 'GRANIZAL',\n",
       " 'GUAYABAL',\n",
       " 'HECTORABADGOMEZ',\n",
       " 'JARDINBOTANICO',\n",
       " 'JESUSNAZARENO',\n",
       " 'JUANPABLOII',\n",
       " 'JUANXXIIILAQUIEBRA',\n",
       " 'KENNEDY',\n",
       " 'LAAGUACATALA',\n",
       " 'LAALDEA',\n",
       " 'LAAMERICA',\n",
       " 'LAAVANZADA',\n",
       " 'LACANDELARIA',\n",
       " 'LACOLINA',\n",
       " 'LACRUZ',\n",
       " 'LACUCHILLA',\n",
       " 'LAESPERANZA',\n",
       " 'LAESPERANZANO2',\n",
       " 'LAFLORESTA',\n",
       " 'LAFLORIDA',\n",
       " 'LAFRANCIA',\n",
       " 'LAFRONTERA',\n",
       " 'LAHONDONADA',\n",
       " 'LAISLA',\n",
       " 'LALADERA',\n",
       " 'LALIBERTAD',\n",
       " 'LALOMA',\n",
       " 'LALOMAORIENTAL',\n",
       " 'LAMANSION',\n",
       " 'LAMILAGROSA',\n",
       " 'LAOCULTA',\n",
       " 'LAPALMA',\n",
       " 'LAPRADERA',\n",
       " 'LASALLE',\n",
       " 'LASBRISAS',\n",
       " 'LASESMERALDAS',\n",
       " 'LASGRANJAS',\n",
       " 'LASIERRA',\n",
       " 'LASINDEPENDENCIAS',\n",
       " 'LASPALMAS',\n",
       " 'LASVIOLETAS',\n",
       " 'LAURELES',\n",
       " 'LAVOLCANAYGUAYABAL',\n",
       " 'LLANADITAS',\n",
       " 'LOMADELOSBERNAL',\n",
       " 'LOPEZDEMESA',\n",
       " 'LORETO',\n",
       " 'LOSALCAZARES',\n",
       " 'LOSANGELES',\n",
       " 'LOSCERROSELVERGEL',\n",
       " 'LOSMANGOS',\n",
       " 'MANILA',\n",
       " 'MANRIQUECENTRALNO1',\n",
       " 'MANRIQUECENTRALNO2',\n",
       " 'MANRIQUEORIENTAL',\n",
       " 'MARIACANO',\n",
       " 'METROPOLITANO',\n",
       " 'MIRADORDELDOCE',\n",
       " 'MIRAFLORES',\n",
       " 'MIRANDA',\n",
       " 'MIRAVALLE',\n",
       " 'MONTECLARO',\n",
       " 'MORAVIA',\n",
       " 'MOSCUNO1',\n",
       " 'MOSCUNO2',\n",
       " 'NARANJAL',\n",
       " 'NUEVOSCONQUISTADORES',\n",
       " 'OCHODEMARZO',\n",
       " 'OLAYAHERRERA',\n",
       " 'OLEODUCTO',\n",
       " 'ORIENTE',\n",
       " 'PABLOVI',\n",
       " 'PAJARITO',\n",
       " 'PALENQUE',\n",
       " 'PALERMO',\n",
       " 'PALMITAS',\n",
       " 'PARQUENORTE',\n",
       " 'PEDREGAL',\n",
       " 'PEDREGALALTO',\n",
       " 'PICACHITO',\n",
       " 'PICACHO',\n",
       " 'PLAYONDELOS',\n",
       " 'POPULAR',\n",
       " 'PRADO',\n",
       " 'PROGRESO',\n",
       " 'ROBLEDO',\n",
       " 'ROSALES',\n",
       " 'SANANTONIO',\n",
       " 'SANBENITO',\n",
       " 'SANBERNARDO',\n",
       " 'SANDIEGO',\n",
       " 'SANGERMAN',\n",
       " 'SANISIDRO',\n",
       " 'SANJAVIERNO1',\n",
       " 'SANJAVIERNO2',\n",
       " 'SANJOAQUIN',\n",
       " 'SANJOSEDELACIMANO',\n",
       " 'SANJOSÉDELAMONTAÑA',\n",
       " 'SANMARTINDEPORRES',\n",
       " 'SANPABLO',\n",
       " 'SANPEDRO',\n",
       " 'SANTACRUZ',\n",
       " 'SANTAELENACENTRAL',\n",
       " 'SANTAFE',\n",
       " 'SANTAINES',\n",
       " 'SANTALUCIA',\n",
       " 'SANTAMARGARITA',\n",
       " 'SANTAMARIADELOS',\n",
       " 'SANTAMONICA',\n",
       " 'SANTANDER',\n",
       " 'SANTAROSADELIMA',\n",
       " 'SANTATERESITA',\n",
       " 'SANTODOMINGOSAVIO',\n",
       " 'SEVILLA',\n",
       " 'SINBARRIO',\n",
       " 'SUBURBANOALTAVISTA',\n",
       " 'SUBURBANOBARRO',\n",
       " 'SUBURBANOSANTAELENA',\n",
       " 'SUCRE',\n",
       " 'TEJELO',\n",
       " 'TOSCANA',\n",
       " 'TRAVESIAS',\n",
       " 'TRICENTENARIO',\n",
       " 'TRINIDAD',\n",
       " 'UNIVERSIDADDE',\n",
       " 'VEINTEDEJULIO',\n",
       " 'VERSALLESNO1',\n",
       " 'VERSALLESNO2',\n",
       " 'VILLADELSOCORRO',\n",
       " 'VILLAFLORA',\n",
       " 'VILLAGUADALUPE',\n",
       " 'VILLAHERMOSA',\n",
       " 'VILLALILIAM',\n",
       " 'VILLANIZA',\n",
       " 'VILLANUEVA',\n",
       " 'VILLATINA',\n",
       " 'VILLATURBAY',\n",
       " 'VRDAPALMITAS',\n",
       " 'VRDASANANTONIO',\n",
       " 'VRDASANCRISTOBAL',\n",
       " 'VRDASANTAELENA',\n",
       " 'YARUMALITO',\n",
       " 'ZONAEXPANSIONSAN',\n",
       " nan}"
      ]
     },
     "execution_count": 105,
     "metadata": {},
     "output_type": "execute_result"
    }
   ],
   "source": [
    "set(df.barrio)"
   ]
  },
  {
   "cell_type": "code",
   "execution_count": 24,
   "id": "710c5877",
   "metadata": {},
   "outputs": [],
   "source": [
    "df.sexo=df.sexo.str.upper()\n",
    "df.tipo_de_emprendimiento=df.tipo_de_emprendimiento.str.upper()"
   ]
  },
  {
   "cell_type": "code",
   "execution_count": 103,
   "id": "90b53d18",
   "metadata": {},
   "outputs": [
    {
     "data": {
      "text/plain": [
       "[6639, 3602]"
      ]
     },
     "execution_count": 103,
     "metadata": {},
     "output_type": "execute_result"
    }
   ],
   "source": [
    "df.dropna().drop_duplicates().sexo.value_counts().to_list()"
   ]
  },
  {
   "cell_type": "code",
   "execution_count": 102,
   "id": "880f565a",
   "metadata": {},
   "outputs": [
    {
     "data": {
      "text/plain": [
       "10241"
      ]
     },
     "execution_count": 102,
     "metadata": {},
     "output_type": "execute_result"
    }
   ],
   "source": [
    "len(df.dropna().drop_duplicates())"
   ]
  },
  {
   "cell_type": "code",
   "execution_count": 90,
   "id": "147b7703",
   "metadata": {},
   "outputs": [
    {
     "data": {
      "text/plain": [
       "10206"
      ]
     },
     "execution_count": 90,
     "metadata": {},
     "output_type": "execute_result"
    }
   ],
   "source": [
    "6617+3589"
   ]
  },
  {
   "cell_type": "code",
   "execution_count": 6,
   "id": "bb827813",
   "metadata": {},
   "outputs": [
    {
     "data": {
      "text/plain": [
       "{'FEMENINO', 'Femenino', 'MASCULINO', 'Masculino', 'femenino', 'masculino'}"
      ]
     },
     "execution_count": 6,
     "metadata": {},
     "output_type": "execute_result"
    }
   ],
   "source": [
    "set(df.sexo)"
   ]
  },
  {
   "cell_type": "code",
   "execution_count": 11,
   "id": "55975911",
   "metadata": {},
   "outputs": [],
   "source": [
    "df.sexo=df.sexo.str.upper()"
   ]
  },
  {
   "cell_type": "code",
   "execution_count": 28,
   "id": "c94b7983",
   "metadata": {},
   "outputs": [
    {
     "data": {
      "text/plain": [
       "Index(['sexo', 'tipo_de_emprendimiento', 'idea_negocio', 'barrio', 'estrato',\n",
       "       'comuna_ciudadano', 'fecha_de_beneficio', 'monto_del_credito',\n",
       "       'línea_credito'],\n",
       "      dtype='object')"
      ]
     },
     "execution_count": 28,
     "metadata": {},
     "output_type": "execute_result"
    }
   ],
   "source": [
    "df.keys()"
   ]
  },
  {
   "cell_type": "code",
   "execution_count": null,
   "id": "7b488892",
   "metadata": {},
   "outputs": [],
   "source": []
  }
 ],
 "metadata": {
  "kernelspec": {
   "display_name": "Python 3 (ipykernel)",
   "language": "python",
   "name": "python3"
  },
  "language_info": {
   "codemirror_mode": {
    "name": "ipython",
    "version": 3
   },
   "file_extension": ".py",
   "mimetype": "text/x-python",
   "name": "python",
   "nbconvert_exporter": "python",
   "pygments_lexer": "ipython3",
   "version": "3.8.16"
  }
 },
 "nbformat": 4,
 "nbformat_minor": 5
}
